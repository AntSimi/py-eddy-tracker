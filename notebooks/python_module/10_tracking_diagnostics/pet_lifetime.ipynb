{
  "cells": [
    {
      "cell_type": "code",
      "execution_count": null,
      "metadata": {
        "collapsed": false
      },
      "outputs": [],
      "source": [
        "%matplotlib inline"
      ]
    },
    {
      "cell_type": "markdown",
      "metadata": {},
      "source": [
        "\nLifetime Histogram\n===================\n"
      ]
    },
    {
      "cell_type": "code",
      "execution_count": null,
      "metadata": {
        "collapsed": false
      },
      "outputs": [],
      "source": [
        "from matplotlib import pyplot as plt\nfrom py_eddy_tracker.observations.tracking import TrackEddiesObservations\nimport py_eddy_tracker_sample\nfrom numpy import arange"
      ]
    },
    {
      "cell_type": "markdown",
      "metadata": {},
      "source": [
        "Load an experimental med atlas over a period of 26 years (1993-2019)\n\n"
      ]
    },
    {
      "cell_type": "code",
      "execution_count": null,
      "metadata": {
        "collapsed": false
      },
      "outputs": [],
      "source": [
        "a = TrackEddiesObservations.load_file(\n    py_eddy_tracker_sample.get_path(\"eddies_med_adt_allsat_dt2018/Anticyclonic.zarr\")\n)\nc = TrackEddiesObservations.load_file(\n    py_eddy_tracker_sample.get_path(\"eddies_med_adt_allsat_dt2018/Cyclonic.zarr\")\n)"
      ]
    },
    {
      "cell_type": "markdown",
      "metadata": {},
      "source": [
        "Plot\n\n"
      ]
    },
    {
      "cell_type": "code",
      "execution_count": null,
      "metadata": {
        "collapsed": false
      },
      "outputs": [],
      "source": [
        "fig = plt.figure()\nax_lifetime = fig.add_axes([0.05, 0.55, 0.4, 0.4])\nax_cum_lifetime = fig.add_axes([0.55, 0.55, 0.4, 0.4])\nax_ratio_lifetime = fig.add_axes([0.05, 0.05, 0.4, 0.4])\nax_ratio_cum_lifetime = fig.add_axes([0.55, 0.05, 0.4, 0.4])\n\ncum_a, bins, _ = ax_cum_lifetime.hist(\n    a[\"n\"], histtype=\"step\", bins=arange(0, 800, 1), label=\"Anticyclonic\", color=\"r\"\n)\ncum_c, bins, _ = ax_cum_lifetime.hist(\n    c[\"n\"], histtype=\"step\", bins=arange(0, 800, 1), label=\"Cyclonic\", color=\"b\"\n)\n\nx = (bins[1:] + bins[:-1]) / 2.0\nax_ratio_cum_lifetime.plot(x, cum_c / cum_a)\n\nnb_a, nb_c = cum_a[:-1] - cum_a[1:], cum_c[:-1] - cum_c[1:]\nax_lifetime.plot(x[1:], nb_a, label=\"Anticyclonic\", color=\"r\")\nax_lifetime.plot(x[1:], nb_c, label=\"Cyclonic\", color=\"b\")\n\nax_ratio_lifetime.plot(x[1:], nb_c / nb_a)\n\nfor ax in (ax_lifetime, ax_cum_lifetime, ax_ratio_cum_lifetime, ax_ratio_lifetime):\n    ax.set_xlim(0, 365)\n    if ax in (ax_lifetime, ax_cum_lifetime):\n        ax.set_ylim(1, None)\n        ax.set_yscale(\"log\")\n        ax.legend()\n    else:\n        ax.set_ylim(0, 2)\n        ax.set_ylabel(\"Ratio Cyclonic/Anticyclonic\")\n    ax.set_xlabel(\"Lifetime (days)\")\n    ax.grid()"
      ]
    }
  ],
  "metadata": {
    "kernelspec": {
      "display_name": "Python 3",
      "language": "python",
      "name": "python3"
    },
    "language_info": {
      "codemirror_mode": {
        "name": "ipython",
        "version": 3
      },
      "file_extension": ".py",
      "mimetype": "text/x-python",
      "name": "python",
      "nbconvert_exporter": "python",
      "pygments_lexer": "ipython3",
      "version": "3.7.7"
    }
  },
  "nbformat": 4,
  "nbformat_minor": 0
}