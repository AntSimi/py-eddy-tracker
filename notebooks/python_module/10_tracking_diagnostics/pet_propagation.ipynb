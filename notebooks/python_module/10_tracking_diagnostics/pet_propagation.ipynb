{
  "cells": [
    {
      "cell_type": "code",
      "execution_count": null,
      "metadata": {
        "collapsed": false
      },
      "outputs": [],
      "source": [
        "%matplotlib inline"
      ]
    },
    {
      "cell_type": "markdown",
      "metadata": {},
      "source": [
        "\nPropagation Histogram\n===================\n"
      ]
    },
    {
      "cell_type": "code",
      "execution_count": null,
      "metadata": {
        "collapsed": false
      },
      "outputs": [],
      "source": [
        "from matplotlib import pyplot as plt\nfrom py_eddy_tracker.observations.tracking import TrackEddiesObservations\nfrom py_eddy_tracker.generic import distance\nimport py_eddy_tracker_sample\nfrom numpy import arange, empty\nfrom numba import njit"
      ]
    },
    {
      "cell_type": "markdown",
      "metadata": {},
      "source": [
        "We will create a function compile with numba, to compute a field which contains curvilign distance\n\n"
      ]
    },
    {
      "cell_type": "code",
      "execution_count": null,
      "metadata": {
        "collapsed": false
      },
      "outputs": [],
      "source": [
        "@njit(cache=True)\ndef cum_distance_by_track(distance, track):\n    tr_previous = 0\n    d_cum = 0\n    new_distance = empty(track.shape, dtype=distance.dtype)\n    for i in range(distance.shape[0]):\n        tr = track[i]\n        if i != 0 and tr != tr_previous:\n            d_cum = 0\n        new_distance[i] = d_cum\n        d_cum += distance[i]\n        tr_previous = tr\n    new_distance[i + 1] = d_cum\n    return new_distance"
      ]
    },
    {
      "cell_type": "markdown",
      "metadata": {},
      "source": [
        "Load an experimental med atlas over a period of 26 years (1993-2019)\n\n"
      ]
    },
    {
      "cell_type": "code",
      "execution_count": null,
      "metadata": {
        "collapsed": false
      },
      "outputs": [],
      "source": [
        "a = TrackEddiesObservations.load_file(\n    py_eddy_tracker_sample.get_path(\"eddies_med_adt_allsat_dt2018/Anticyclonic.zarr\")\n)\nc = TrackEddiesObservations.load_file(\n    py_eddy_tracker_sample.get_path(\"eddies_med_adt_allsat_dt2018/Cyclonic.zarr\")\n)"
      ]
    },
    {
      "cell_type": "markdown",
      "metadata": {},
      "source": [
        "Filtering position to remove noisy position\n\n"
      ]
    },
    {
      "cell_type": "code",
      "execution_count": null,
      "metadata": {
        "collapsed": false
      },
      "outputs": [],
      "source": [
        "a.position_filter(median_half_window=1, loess_half_window=5)\nc.position_filter(median_half_window=1, loess_half_window=5)"
      ]
    },
    {
      "cell_type": "markdown",
      "metadata": {},
      "source": [
        "Compute curvilign distance\n\n"
      ]
    },
    {
      "cell_type": "code",
      "execution_count": null,
      "metadata": {
        "collapsed": false
      },
      "outputs": [],
      "source": [
        "d_a = distance(a.longitude[:-1], a.latitude[:-1], a.longitude[1:], a.latitude[1:])\nd_c = distance(c.longitude[:-1], c.latitude[:-1], c.longitude[1:], c.latitude[1:])\nd_a = cum_distance_by_track(d_a, a[\"track\"]) / 1000.0\nd_c = cum_distance_by_track(d_c, c[\"track\"]) / 1000.0"
      ]
    },
    {
      "cell_type": "markdown",
      "metadata": {},
      "source": [
        "Plot\n\n"
      ]
    },
    {
      "cell_type": "code",
      "execution_count": null,
      "metadata": {
        "collapsed": false
      },
      "outputs": [],
      "source": [
        "fig = plt.figure()\nax_propagation = fig.add_axes([0.05, 0.55, 0.4, 0.4])\nax_cum_propagation = fig.add_axes([0.55, 0.55, 0.4, 0.4])\nax_ratio_propagation = fig.add_axes([0.05, 0.05, 0.4, 0.4])\nax_ratio_cum_propagation = fig.add_axes([0.55, 0.05, 0.4, 0.4])\n\nbins = arange(0, 1500, 10)\ncum_a, bins, _ = ax_cum_propagation.hist(\n    d_a, histtype=\"step\", bins=bins, label=\"Anticyclonic\", color=\"r\"\n)\ncum_c, bins, _ = ax_cum_propagation.hist(\n    d_c, histtype=\"step\", bins=bins, label=\"Cyclonic\", color=\"b\"\n)\n\nx = (bins[1:] + bins[:-1]) / 2.0\nax_ratio_cum_propagation.plot(x, cum_c / cum_a)\n\nnb_a, nb_c = cum_a[:-1] - cum_a[1:], cum_c[:-1] - cum_c[1:]\nax_propagation.plot(x[1:], nb_a, label=\"Anticyclonic\", color=\"r\")\nax_propagation.plot(x[1:], nb_c, label=\"Cyclonic\", color=\"b\")\n\nax_ratio_propagation.plot(x[1:], nb_c / nb_a)\n\nfor ax in (\n    ax_propagation,\n    ax_cum_propagation,\n    ax_ratio_cum_propagation,\n    ax_ratio_propagation,\n):\n    ax.set_xlim(0, 1000)\n    if ax in (ax_propagation, ax_cum_propagation):\n        ax.set_ylim(1, None)\n        ax.set_yscale(\"log\")\n        ax.legend()\n    else:\n        ax.set_ylim(0, 2)\n        ax.set_ylabel(\"Ratio Cyclonic/Anticyclonic\")\n    ax.set_xlabel(\"Propagation (km)\")\n    ax.grid()"
      ]
    }
  ],
  "metadata": {
    "kernelspec": {
      "display_name": "Python 3",
      "language": "python",
      "name": "python3"
    },
    "language_info": {
      "codemirror_mode": {
        "name": "ipython",
        "version": 3
      },
      "file_extension": ".py",
      "mimetype": "text/x-python",
      "name": "python",
      "nbconvert_exporter": "python",
      "pygments_lexer": "ipython3",
      "version": "3.7.7"
    }
  },
  "nbformat": 4,
  "nbformat_minor": 0
}