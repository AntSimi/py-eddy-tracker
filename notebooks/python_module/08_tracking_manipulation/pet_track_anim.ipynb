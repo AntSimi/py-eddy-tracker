{
  "cells": [
    {
      "cell_type": "code",
      "execution_count": null,
      "metadata": {
        "collapsed": false
      },
      "outputs": [],
      "source": [
        "%matplotlib inline"
      ]
    },
    {
      "cell_type": "markdown",
      "metadata": {},
      "source": [
        "\nTrack animation\n===============\n\nRun in a terminal this script, which allow to watch eddy evolution\n"
      ]
    },
    {
      "cell_type": "code",
      "execution_count": null,
      "metadata": {
        "collapsed": false
      },
      "outputs": [],
      "source": [
        "from matplotlib import pyplot as plt\nfrom matplotlib.collections import LineCollection\nimport matplotlib.transforms as mt\nfrom numpy import arange\nfrom py_eddy_tracker.observations.tracking import TrackEddiesObservations\nfrom py_eddy_tracker.poly import create_vertice\nimport py_eddy_tracker_sample"
      ]
    },
    {
      "cell_type": "markdown",
      "metadata": {},
      "source": [
        "Load experimental atlas, and we select one eddy\n\n"
      ]
    },
    {
      "cell_type": "code",
      "execution_count": null,
      "metadata": {
        "collapsed": false
      },
      "outputs": [],
      "source": [
        "a = TrackEddiesObservations.load_file(\n    py_eddy_tracker_sample.get_path(\"eddies_med_adt_allsat_dt2018/Anticyclonic.zarr\")\n)\neddy = a.extract_ids([9672])\nt0, t1 = eddy.period\nt = eddy.time\nx = eddy[\"contour_lon_s\"]\ny = eddy[\"contour_lat_s\"]"
      ]
    },
    {
      "cell_type": "markdown",
      "metadata": {},
      "source": [
        "General value\n\n"
      ]
    },
    {
      "cell_type": "code",
      "execution_count": null,
      "metadata": {
        "collapsed": false
      },
      "outputs": [],
      "source": [
        "T = 25.0\ncmap = plt.get_cmap(\"viridis\")\nCOLORS = cmap(arange(T + 1) / T)"
      ]
    },
    {
      "cell_type": "markdown",
      "metadata": {},
      "source": [
        "plot\n\n"
      ]
    },
    {
      "cell_type": "code",
      "execution_count": null,
      "metadata": {
        "collapsed": false
      },
      "outputs": [],
      "source": [
        "fig = plt.figure(figsize=(12, 5))\nax = fig.add_axes((0.05, 0.05, 0.9, 0.9))\nax.set_xlim(16.5, 23)\nax.set_ylim(34.5, 37)\nax.set_aspect(\"equal\")\nax.grid()\n# init mappable\ntxt = ax.text(16.6, 36.8, \"\", zorder=10)\nsegs = list()\nc = LineCollection([], zorder=1)\nax.add_collection(c)\n\nfig.canvas.draw()\nplt.show(block=False)\n# save background for future bliting\nbg_cache = fig.canvas.copy_from_bbox(ax.bbox)\n# display contour every 2 day\nfor t_ in range(t0, t1 + 1, 2):\n    fig.canvas.restore_region(bg_cache)\n    # select contour for this time step\n    m = t == t_\n    segs.append(create_vertice(x[m][0], y[m][0]))\n    c.set_paths(segs)\n    c.set_color(COLORS[-len(segs) :])\n    txt.set_text(f\"{t0} -> {t_} -> {t1}\")\n    ax.draw_artist(c)\n    ax.draw_artist(txt)\n    # Remove first segment to keep only T contour\n    if len(segs) > T:\n        segs.pop(0)\n    # paint updated artist\n    fig.canvas.blit(ax.bbox)\n\n    fig.canvas.start_event_loop(1e-10)"
      ]
    }
  ],
  "metadata": {
    "kernelspec": {
      "display_name": "Python 3",
      "language": "python",
      "name": "python3"
    },
    "language_info": {
      "codemirror_mode": {
        "name": "ipython",
        "version": 3
      },
      "file_extension": ".py",
      "mimetype": "text/x-python",
      "name": "python",
      "nbconvert_exporter": "python",
      "pygments_lexer": "ipython3",
      "version": "3.7.7"
    }
  },
  "nbformat": 4,
  "nbformat_minor": 0
}