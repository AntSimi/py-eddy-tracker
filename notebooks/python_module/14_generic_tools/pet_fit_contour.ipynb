{
  "cells": [
    {
      "cell_type": "code",
      "execution_count": null,
      "metadata": {
        "collapsed": false
      },
      "outputs": [],
      "source": [
        "%matplotlib inline"
      ]
    },
    {
      "cell_type": "markdown",
      "metadata": {},
      "source": [
        "\n# Contour fit\n\nTwo type of fit :\n - Ellipse\n - Circle\n\nIn the two case we use a least square algorithm\n"
      ]
    },
    {
      "cell_type": "code",
      "execution_count": null,
      "metadata": {
        "collapsed": false
      },
      "outputs": [],
      "source": [
        "from py_eddy_tracker.poly import fit_circle_, fit_ellips, fit_circle\nfrom py_eddy_tracker.generic import local_to_coordinates, coordinates_to_local\nfrom matplotlib import pyplot as plt\nfrom py_eddy_tracker import data\nfrom py_eddy_tracker.observations.observation import EddiesObservations\nfrom numpy import radians, linspace, cos, sin\n\na = EddiesObservations.load_file(data.get_path(\"Anticyclonic_20190223.nc\"))\n\n\ndef build_circle(x0, y0, r):\n    angle = radians(linspace(0, 360, 50))\n    x_norm, y_norm = cos(angle), sin(angle)\n    return local_to_coordinates(x_norm * r, y_norm * r, x0, y0)\n\ndef build_ellips(x0, y0, a, b, theta):\n    angle = radians(linspace(0, 360, 50))\n    x = a * cos(theta) * cos(angle) - b * sin(theta) * sin(angle)\n    y = a * sin(theta) * cos(angle) + b * cos(theta) * sin(angle)\n    return local_to_coordinates(x, y, x0, y0)"
      ]
    },
    {
      "cell_type": "code",
      "execution_count": null,
      "metadata": {
        "collapsed": false
      },
      "outputs": [],
      "source": [
        "xs,ys=a.contour_lon_s,a.contour_lat_s\n\nfor i in range(20):\n    x, y = xs[i], ys[i]\n    x0_, y0_ = x.mean(), y.mean()\n    x_, y_ = coordinates_to_local(x,y, x0_, y0_)\n    fig = plt.figure()\n    ax = fig.add_subplot(111)\n    ax.grid(), ax.set_aspect('equal')\n    ax.plot(x, y, label='store')\n    x0, y0, a,b, theta = fit_ellips(x_,y_)\n    x0, y0 = local_to_coordinates(x0, y0, x0_, y0_)\n    ax.plot(*build_ellips(x0, y0, a,b, theta), label='ellips')\n    x0, y0, radius, shape_error = fit_circle_(x_,y_)\n    x0,y0 = local_to_coordinates(x0,y0, x0_, y0_)\n    ax.plot(*build_circle(x0,y0, radius), label='circle')\n    ax.legend()"
      ]
    }
  ],
  "metadata": {
    "kernelspec": {
      "display_name": "Python 3",
      "language": "python",
      "name": "python3"
    },
    "language_info": {
      "codemirror_mode": {
        "name": "ipython",
        "version": 3
      },
      "file_extension": ".py",
      "mimetype": "text/x-python",
      "name": "python",
      "nbconvert_exporter": "python",
      "pygments_lexer": "ipython3",
      "version": "3.7.7"
    }
  },
  "nbformat": 4,
  "nbformat_minor": 0
}